{
 "cells": [
  {
   "cell_type": "code",
   "execution_count": 1,
   "metadata": {},
   "outputs": [
    {
     "name": "stderr",
     "output_type": "stream",
     "text": [
      "C:\\Users\\bruce.stoutenburg\\AppData\\Local\\Continuum\\anaconda3\\lib\\site-packages\\pandas\\compat\\_optional.py:138: UserWarning: Pandas requires version '2.7.0' or newer of 'numexpr' (version '2.6.9' currently installed).\n",
      "  warnings.warn(msg, UserWarning)\n"
     ]
    }
   ],
   "source": [
    "import torch\n",
    "import torch.nn as nn\n",
    "import torch.nn.functional as F\n",
    "import numpy as np\n",
    "import xgboost as xgb\n",
    "import matplotlib.pyplot as plt"
   ]
  },
  {
   "cell_type": "code",
   "execution_count": 10,
   "metadata": {},
   "outputs": [],
   "source": [
    "my_act = lambda x:x-1.4231*torch.cos(x)+0.0605061*torch.cos(3*x)-0.340759*torch.sin(2*x)+0.00515677*torch.sin(4*x)"
   ]
  },
  {
   "cell_type": "code",
   "execution_count": 40,
   "metadata": {},
   "outputs": [],
   "source": [
    "class Net(nn.Module):\n",
    "    def __init__(self):\n",
    "        super(Net, self).__init__()\n",
    "        self.L1 = nn.Linear(10,880,bias=False)\n",
    "        self.L2 = nn.Linear(880,1,bias=False)\n",
    "\n",
    "    def forward(self, x):\n",
    "        l1 = self.L1(x)\n",
    "        l2 = my_act(l1)\n",
    "        return self.L2(l2)"
   ]
  },
  {
   "cell_type": "code",
   "execution_count": 8,
   "metadata": {},
   "outputs": [],
   "source": [
    "model = Net()"
   ]
  },
  {
   "cell_type": "code",
   "execution_count": 9,
   "metadata": {},
   "outputs": [],
   "source": [
    "criterion = nn.MSELoss()\n",
    "optimizer = torch.optim.SGD(model.parameters(), lr=0.001, momentum=0.1)"
   ]
  },
  {
   "cell_type": "code",
   "execution_count": 10,
   "metadata": {},
   "outputs": [],
   "source": [
    "X = np.random.randn(100000,10)\n",
    "y=(np.sin(X)/np.exp(X)).sum(axis=1)\n",
    "X=torch.tensor(X).float()\n",
    "y=torch.tensor(y).float()"
   ]
  },
  {
   "cell_type": "code",
   "execution_count": 11,
   "metadata": {},
   "outputs": [],
   "source": [
    "X_eval = np.random.randn(1000,10)\n",
    "y_eval=(np.sin(X_eval)/np.exp(X_eval)).sum(axis=1)\n",
    "X_eval=torch.tensor(X_eval).float()\n",
    "y_eval=torch.tensor(y_eval).float()"
   ]
  },
  {
   "cell_type": "code",
   "execution_count": 41,
   "metadata": {
    "scrolled": true
   },
   "outputs": [
    {
     "name": "stdout",
     "output_type": "stream",
     "text": [
      "tensor(0.9176, grad_fn=<MseLossBackward0>) 0.001\n",
      "tensor(0.9168, grad_fn=<MseLossBackward0>) 0.001\n",
      "tensor(0.9159, grad_fn=<MseLossBackward0>) 0.001\n",
      "tensor(0.9151, grad_fn=<MseLossBackward0>) 0.001\n",
      "tensor(0.9143, grad_fn=<MseLossBackward0>) 0.001\n",
      "tensor(0.9135, grad_fn=<MseLossBackward0>) 0.001\n",
      "tensor(0.9126, grad_fn=<MseLossBackward0>) 0.001\n",
      "tensor(0.9118, grad_fn=<MseLossBackward0>) 0.001\n",
      "tensor(0.9110, grad_fn=<MseLossBackward0>) 0.001\n",
      "tensor(0.9102, grad_fn=<MseLossBackward0>) 0.001\n",
      "tensor(0.9094, grad_fn=<MseLossBackward0>) 0.001\n",
      "tensor(0.9086, grad_fn=<MseLossBackward0>) 0.001\n",
      "tensor(0.9078, grad_fn=<MseLossBackward0>) 0.001\n",
      "tensor(0.9070, grad_fn=<MseLossBackward0>) 0.001\n",
      "tensor(0.9062, grad_fn=<MseLossBackward0>) 0.001\n",
      "tensor(0.9054, grad_fn=<MseLossBackward0>) 0.001\n",
      "tensor(0.9047, grad_fn=<MseLossBackward0>) 0.001\n",
      "tensor(0.9039, grad_fn=<MseLossBackward0>) 0.001\n",
      "tensor(0.9031, grad_fn=<MseLossBackward0>) 0.001\n",
      "tensor(0.9023, grad_fn=<MseLossBackward0>) 0.001\n",
      "tensor(0.9015, grad_fn=<MseLossBackward0>) 0.001\n",
      "tensor(0.9008, grad_fn=<MseLossBackward0>) 0.001\n",
      "tensor(0.9000, grad_fn=<MseLossBackward0>) 0.001\n",
      "tensor(0.8992, grad_fn=<MseLossBackward0>) 0.001\n",
      "tensor(0.8985, grad_fn=<MseLossBackward0>) 0.001\n",
      "tensor(0.8977, grad_fn=<MseLossBackward0>) 0.001\n",
      "tensor(0.8970, grad_fn=<MseLossBackward0>) 0.001\n",
      "tensor(0.8962, grad_fn=<MseLossBackward0>) 0.001\n",
      "tensor(0.8955, grad_fn=<MseLossBackward0>) 0.001\n",
      "tensor(0.8947, grad_fn=<MseLossBackward0>) 0.001\n",
      "tensor(0.8940, grad_fn=<MseLossBackward0>) 0.001\n",
      "tensor(0.8932, grad_fn=<MseLossBackward0>) 0.001\n",
      "tensor(0.8925, grad_fn=<MseLossBackward0>) 0.001\n",
      "tensor(0.8918, grad_fn=<MseLossBackward0>) 0.001\n",
      "tensor(0.8910, grad_fn=<MseLossBackward0>) 0.001\n",
      "tensor(0.8903, grad_fn=<MseLossBackward0>) 0.001\n",
      "tensor(0.8896, grad_fn=<MseLossBackward0>) 0.001\n",
      "tensor(0.8889, grad_fn=<MseLossBackward0>) 0.001\n",
      "tensor(0.8881, grad_fn=<MseLossBackward0>) 0.001\n",
      "tensor(0.8874, grad_fn=<MseLossBackward0>) 0.001\n",
      "tensor(0.8867, grad_fn=<MseLossBackward0>) 0.001\n",
      "tensor(0.8860, grad_fn=<MseLossBackward0>) 0.001\n",
      "tensor(0.8853, grad_fn=<MseLossBackward0>) 0.001\n",
      "tensor(0.8846, grad_fn=<MseLossBackward0>) 0.001\n",
      "tensor(0.8839, grad_fn=<MseLossBackward0>) 0.001\n",
      "tensor(0.8832, grad_fn=<MseLossBackward0>) 0.001\n",
      "tensor(0.8825, grad_fn=<MseLossBackward0>) 0.001\n",
      "tensor(0.8818, grad_fn=<MseLossBackward0>) 0.001\n",
      "tensor(0.8811, grad_fn=<MseLossBackward0>) 0.001\n",
      "tensor(0.8804, grad_fn=<MseLossBackward0>) 0.001\n",
      "tensor(0.8797, grad_fn=<MseLossBackward0>) 0.001\n",
      "tensor(0.8790, grad_fn=<MseLossBackward0>) 0.001\n",
      "tensor(0.8783, grad_fn=<MseLossBackward0>) 0.001\n",
      "tensor(0.8776, grad_fn=<MseLossBackward0>) 0.001\n",
      "tensor(0.8769, grad_fn=<MseLossBackward0>) 0.001\n",
      "tensor(0.8763, grad_fn=<MseLossBackward0>) 0.001\n",
      "tensor(0.8756, grad_fn=<MseLossBackward0>) 0.001\n",
      "tensor(0.8749, grad_fn=<MseLossBackward0>) 0.001\n",
      "tensor(0.8742, grad_fn=<MseLossBackward0>) 0.001\n",
      "tensor(0.8736, grad_fn=<MseLossBackward0>) 0.001\n",
      "tensor(0.8729, grad_fn=<MseLossBackward0>) 0.001\n",
      "tensor(0.8722, grad_fn=<MseLossBackward0>) 0.001\n",
      "tensor(0.8716, grad_fn=<MseLossBackward0>) 0.001\n",
      "tensor(0.8709, grad_fn=<MseLossBackward0>) 0.001\n",
      "tensor(0.8703, grad_fn=<MseLossBackward0>) 0.001\n",
      "tensor(0.8696, grad_fn=<MseLossBackward0>) 0.001\n",
      "tensor(0.8690, grad_fn=<MseLossBackward0>) 0.001\n",
      "tensor(0.8683, grad_fn=<MseLossBackward0>) 0.001\n",
      "tensor(0.8677, grad_fn=<MseLossBackward0>) 0.001\n",
      "tensor(0.8670, grad_fn=<MseLossBackward0>) 0.001\n",
      "tensor(0.8664, grad_fn=<MseLossBackward0>) 0.001\n",
      "tensor(0.8657, grad_fn=<MseLossBackward0>) 0.001\n",
      "tensor(0.8651, grad_fn=<MseLossBackward0>) 0.001\n",
      "tensor(0.8644, grad_fn=<MseLossBackward0>) 0.001\n",
      "tensor(0.8638, grad_fn=<MseLossBackward0>) 0.001\n",
      "tensor(0.8632, grad_fn=<MseLossBackward0>) 0.001\n",
      "tensor(0.8625, grad_fn=<MseLossBackward0>) 0.001\n",
      "tensor(0.8619, grad_fn=<MseLossBackward0>) 0.001\n",
      "tensor(0.8613, grad_fn=<MseLossBackward0>) 0.001\n",
      "tensor(0.8607, grad_fn=<MseLossBackward0>) 0.001\n",
      "tensor(0.8600, grad_fn=<MseLossBackward0>) 0.001\n",
      "tensor(0.8594, grad_fn=<MseLossBackward0>) 0.001\n",
      "tensor(0.8588, grad_fn=<MseLossBackward0>) 0.001\n",
      "tensor(0.8582, grad_fn=<MseLossBackward0>) 0.001\n",
      "tensor(0.8576, grad_fn=<MseLossBackward0>) 0.001\n",
      "tensor(0.8569, grad_fn=<MseLossBackward0>) 0.001\n",
      "tensor(0.8563, grad_fn=<MseLossBackward0>) 0.001\n",
      "tensor(0.8557, grad_fn=<MseLossBackward0>) 0.001\n",
      "tensor(0.8551, grad_fn=<MseLossBackward0>) 0.001\n",
      "tensor(0.8545, grad_fn=<MseLossBackward0>) 0.001\n",
      "tensor(0.8539, grad_fn=<MseLossBackward0>) 0.001\n",
      "tensor(0.8533, grad_fn=<MseLossBackward0>) 0.001\n",
      "tensor(0.8527, grad_fn=<MseLossBackward0>) 0.001\n",
      "tensor(0.8521, grad_fn=<MseLossBackward0>) 0.001\n",
      "tensor(0.8515, grad_fn=<MseLossBackward0>) 0.001\n",
      "tensor(0.8509, grad_fn=<MseLossBackward0>) 0.001\n",
      "tensor(0.8503, grad_fn=<MseLossBackward0>) 0.001\n",
      "tensor(0.8497, grad_fn=<MseLossBackward0>) 0.001\n",
      "tensor(0.8491, grad_fn=<MseLossBackward0>) 0.001\n",
      "tensor(0.8485, grad_fn=<MseLossBackward0>) 0.001\n"
     ]
    }
   ],
   "source": [
    "rate=.001\n",
    "for epoch in range(500):\n",
    "    for i in range(100):\n",
    "        inputs = X[i*1000:i*1000+1000]\n",
    "        targets = y[i*1000:i*1000+1000]\n",
    "        optimizer.zero_grad()\n",
    "        yhat = model(inputs)\n",
    "        loss = criterion(yhat.ravel(), targets)\n",
    "        loss.backward()\n",
    "        optimizer.step()\n",
    "    all_yhat = model(X_eval)\n",
    "    overall_loss = criterion(all_yhat.ravel(),y_eval)\n",
    "    print(overall_loss,rate)"
   ]
  },
  {
   "cell_type": "code",
   "execution_count": 43,
   "metadata": {},
   "outputs": [
    {
     "data": {
      "image/png": "[encoded data removed]",
      "text/plain": [
       "<Figure size 640x480 with 1 Axes>"
      ]
     },
     "metadata": {},
     "output_type": "display_data"
    }
   ],
   "source": [
    "nn_preds = all_yhat.detach().numpy()\n",
    "y_eval_np = y_eval.numpy()\n",
    "plt.scatter(y_eval_np,nn_preds,s=.1)\n",
    "plt.plot([y_eval_np.min(),y_eval_np.max()],[y_eval.min(),y_eval.max()])\n",
    "plt.show()"
   ]
  },
  {
   "cell_type": "code",
   "execution_count": 35,
   "metadata": {
    "scrolled": true
   },
   "outputs": [
    {
     "name": "stdout",
     "output_type": "stream",
     "text": [
      "[15:47:57] INFO: C:\\Jenkins\\workspace\\xgboost-win64_release_0.90\\src\\tree\\updater_prune.cc:74: tree pruning end, 1 roots, 14 extra nodes, 0 pruned nodes, max_depth=3\n",
      "[15:47:57] INFO: C:\\Jenkins\\workspace\\xgboost-win64_release_0.90\\src\\tree\\updater_prune.cc:74: tree pruning end, 1 roots, 14 extra nodes, 0 pruned nodes, max_depth=3\n",
      "[15:47:57] INFO: C:\\Jenkins\\workspace\\xgboost-win64_release_0.90\\src\\tree\\updater_prune.cc:74: tree pruning end, 1 roots, 14 extra nodes, 0 pruned nodes, max_depth=3\n",
      "[15:47:57] INFO: C:\\Jenkins\\workspace\\xgboost-win64_release_0.90\\src\\tree\\updater_prune.cc:74: tree pruning end, 1 roots, 14 extra nodes, 0 pruned nodes, max_depth=3\n",
      "[15:47:57] INFO: C:\\Jenkins\\workspace\\xgboost-win64_release_0.90\\src\\tree\\updater_prune.cc:74: tree pruning end, 1 roots, 14 extra nodes, 0 pruned nodes, max_depth=3\n",
      "[15:47:57] INFO: C:\\Jenkins\\workspace\\xgboost-win64_release_0.90\\src\\tree\\updater_prune.cc:74: tree pruning end, 1 roots, 14 extra nodes, 0 pruned nodes, max_depth=3\n",
      "[15:47:57] INFO: C:\\Jenkins\\workspace\\xgboost-win64_release_0.90\\src\\tree\\updater_prune.cc:74: tree pruning end, 1 roots, 14 extra nodes, 0 pruned nodes, max_depth=3\n",
      "[15:47:57] INFO: C:\\Jenkins\\workspace\\xgboost-win64_release_0.90\\src\\tree\\updater_prune.cc:74: tree pruning end, 1 roots, 14 extra nodes, 0 pruned nodes, max_depth=3\n",
      "[15:47:57] INFO: C:\\Jenkins\\workspace\\xgboost-win64_release_0.90\\src\\tree\\updater_prune.cc:74: tree pruning end, 1 roots, 14 extra nodes, 0 pruned nodes, max_depth=3\n",
      "[15:47:57] INFO: C:\\Jenkins\\workspace\\xgboost-win64_release_0.90\\src\\tree\\updater_prune.cc:74: tree pruning end, 1 roots, 14 extra nodes, 0 pruned nodes, max_depth=3\n",
      "[15:47:58] INFO: C:\\Jenkins\\workspace\\xgboost-win64_release_0.90\\src\\tree\\updater_prune.cc:74: tree pruning end, 1 roots, 14 extra nodes, 0 pruned nodes, max_depth=3\n",
      "[15:47:58] INFO: C:\\Jenkins\\workspace\\xgboost-win64_release_0.90\\src\\tree\\updater_prune.cc:74: tree pruning end, 1 roots, 14 extra nodes, 0 pruned nodes, max_depth=3\n",
      "[15:47:58] INFO: C:\\Jenkins\\workspace\\xgboost-win64_release_0.90\\src\\tree\\updater_prune.cc:74: tree pruning end, 1 roots, 14 extra nodes, 0 pruned nodes, max_depth=3\n",
      "[15:47:58] INFO: C:\\Jenkins\\workspace\\xgboost-win64_release_0.90\\src\\tree\\updater_prune.cc:74: tree pruning end, 1 roots, 14 extra nodes, 0 pruned nodes, max_depth=3\n",
      "[15:47:58] INFO: C:\\Jenkins\\workspace\\xgboost-win64_release_0.90\\src\\tree\\updater_prune.cc:74: tree pruning end, 1 roots, 14 extra nodes, 0 pruned nodes, max_depth=3\n",
      "[15:47:58] INFO: C:\\Jenkins\\workspace\\xgboost-win64_release_0.90\\src\\tree\\updater_prune.cc:74: tree pruning end, 1 roots, 14 extra nodes, 0 pruned nodes, max_depth=3\n",
      "[15:47:58] INFO: C:\\Jenkins\\workspace\\xgboost-win64_release_0.90\\src\\tree\\updater_prune.cc:74: tree pruning end, 1 roots, 14 extra nodes, 0 pruned nodes, max_depth=3\n",
      "[15:47:58] INFO: C:\\Jenkins\\workspace\\xgboost-win64_release_0.90\\src\\tree\\updater_prune.cc:74: tree pruning end, 1 roots, 14 extra nodes, 0 pruned nodes, max_depth=3\n",
      "[15:47:58] INFO: C:\\Jenkins\\workspace\\xgboost-win64_release_0.90\\src\\tree\\updater_prune.cc:74: tree pruning end, 1 roots, 14 extra nodes, 0 pruned nodes, max_depth=3\n",
      "[15:47:58] INFO: C:\\Jenkins\\workspace\\xgboost-win64_release_0.90\\src\\tree\\updater_prune.cc:74: tree pruning end, 1 roots, 14 extra nodes, 0 pruned nodes, max_depth=3\n",
      "[15:47:58] INFO: C:\\Jenkins\\workspace\\xgboost-win64_release_0.90\\src\\tree\\updater_prune.cc:74: tree pruning end, 1 roots, 14 extra nodes, 0 pruned nodes, max_depth=3\n",
      "[15:47:58] INFO: C:\\Jenkins\\workspace\\xgboost-win64_release_0.90\\src\\tree\\updater_prune.cc:74: tree pruning end, 1 roots, 14 extra nodes, 0 pruned nodes, max_depth=3\n",
      "[15:47:59] INFO: C:\\Jenkins\\workspace\\xgboost-win64_release_0.90\\src\\tree\\updater_prune.cc:74: tree pruning end, 1 roots, 14 extra nodes, 0 pruned nodes, max_depth=3\n",
      "[15:47:59] INFO: C:\\Jenkins\\workspace\\xgboost-win64_release_0.90\\src\\tree\\updater_prune.cc:74: tree pruning end, 1 roots, 14 extra nodes, 0 pruned nodes, max_depth=3\n",
      "[15:47:59] INFO: C:\\Jenkins\\workspace\\xgboost-win64_release_0.90\\src\\tree\\updater_prune.cc:74: tree pruning end, 1 roots, 14 extra nodes, 0 pruned nodes, max_depth=3\n",
      "[15:47:59] INFO: C:\\Jenkins\\workspace\\xgboost-win64_release_0.90\\src\\tree\\updater_prune.cc:74: tree pruning end, 1 roots, 14 extra nodes, 0 pruned nodes, max_depth=3\n",
      "[15:47:59] INFO: C:\\Jenkins\\workspace\\xgboost-win64_release_0.90\\src\\tree\\updater_prune.cc:74: tree pruning end, 1 roots, 14 extra nodes, 0 pruned nodes, max_depth=3\n",
      "[15:47:59] INFO: C:\\Jenkins\\workspace\\xgboost-win64_release_0.90\\src\\tree\\updater_prune.cc:74: tree pruning end, 1 roots, 14 extra nodes, 0 pruned nodes, max_depth=3\n",
      "[15:47:59] INFO: C:\\Jenkins\\workspace\\xgboost-win64_release_0.90\\src\\tree\\updater_prune.cc:74: tree pruning end, 1 roots, 14 extra nodes, 0 pruned nodes, max_depth=3\n",
      "[15:47:59] INFO: C:\\Jenkins\\workspace\\xgboost-win64_release_0.90\\src\\tree\\updater_prune.cc:74: tree pruning end, 1 roots, 14 extra nodes, 0 pruned nodes, max_depth=3\n",
      "[15:47:59] INFO: C:\\Jenkins\\workspace\\xgboost-win64_release_0.90\\src\\tree\\updater_prune.cc:74: tree pruning end, 1 roots, 14 extra nodes, 0 pruned nodes, max_depth=3\n",
      "[15:47:59] INFO: C:\\Jenkins\\workspace\\xgboost-win64_release_0.90\\src\\tree\\updater_prune.cc:74: tree pruning end, 1 roots, 14 extra nodes, 0 pruned nodes, max_depth=3\n",
      "[15:47:59] INFO: C:\\Jenkins\\workspace\\xgboost-win64_release_0.90\\src\\tree\\updater_prune.cc:74: tree pruning end, 1 roots, 14 extra nodes, 0 pruned nodes, max_depth=3\n",
      "[15:48:00] INFO: C:\\Jenkins\\workspace\\xgboost-win64_release_0.90\\src\\tree\\updater_prune.cc:74: tree pruning end, 1 roots, 14 extra nodes, 0 pruned nodes, max_depth=3\n",
      "[15:48:00] INFO: C:\\Jenkins\\workspace\\xgboost-win64_release_0.90\\src\\tree\\updater_prune.cc:74: tree pruning end, 1 roots, 14 extra nodes, 0 pruned nodes, max_depth=3\n",
      "[15:48:00] INFO: C:\\Jenkins\\workspace\\xgboost-win64_release_0.90\\src\\tree\\updater_prune.cc:74: tree pruning end, 1 roots, 14 extra nodes, 0 pruned nodes, max_depth=3\n",
      "[15:48:00] INFO: C:\\Jenkins\\workspace\\xgboost-win64_release_0.90\\src\\tree\\updater_prune.cc:74: tree pruning end, 1 roots, 14 extra nodes, 0 pruned nodes, max_depth=3\n",
      "[15:48:00] INFO: C:\\Jenkins\\workspace\\xgboost-win64_release_0.90\\src\\tree\\updater_prune.cc:74: tree pruning end, 1 roots, 14 extra nodes, 0 pruned nodes, max_depth=3\n",
      "[15:48:00] INFO: C:\\Jenkins\\workspace\\xgboost-win64_release_0.90\\src\\tree\\updater_prune.cc:74: tree pruning end, 1 roots, 14 extra nodes, 0 pruned nodes, max_depth=3\n",
      "[15:48:00] INFO: C:\\Jenkins\\workspace\\xgboost-win64_release_0.90\\src\\tree\\updater_prune.cc:74: tree pruning end, 1 roots, 14 extra nodes, 0 pruned nodes, max_depth=3\n",
      "[15:48:00] INFO: C:\\Jenkins\\workspace\\xgboost-win64_release_0.90\\src\\tree\\updater_prune.cc:74: tree pruning end, 1 roots, 14 extra nodes, 0 pruned nodes, max_depth=3\n",
      "[15:48:00] INFO: C:\\Jenkins\\workspace\\xgboost-win64_release_0.90\\src\\tree\\updater_prune.cc:74: tree pruning end, 1 roots, 14 extra nodes, 0 pruned nodes, max_depth=3\n",
      "[15:48:01] INFO: C:\\Jenkins\\workspace\\xgboost-win64_release_0.90\\src\\tree\\updater_prune.cc:74: tree pruning end, 1 roots, 14 extra nodes, 0 pruned nodes, max_depth=3\n",
      "[15:48:01] INFO: C:\\Jenkins\\workspace\\xgboost-win64_release_0.90\\src\\tree\\updater_prune.cc:74: tree pruning end, 1 roots, 14 extra nodes, 0 pruned nodes, max_depth=3\n",
      "[15:48:01] INFO: C:\\Jenkins\\workspace\\xgboost-win64_release_0.90\\src\\tree\\updater_prune.cc:74: tree pruning end, 1 roots, 14 extra nodes, 0 pruned nodes, max_depth=3\n",
      "[15:48:01] INFO: C:\\Jenkins\\workspace\\xgboost-win64_release_0.90\\src\\tree\\updater_prune.cc:74: tree pruning end, 1 roots, 14 extra nodes, 0 pruned nodes, max_depth=3\n",
      "[15:48:01] INFO: C:\\Jenkins\\workspace\\xgboost-win64_release_0.90\\src\\tree\\updater_prune.cc:74: tree pruning end, 1 roots, 14 extra nodes, 0 pruned nodes, max_depth=3\n",
      "[15:48:01] INFO: C:\\Jenkins\\workspace\\xgboost-win64_release_0.90\\src\\tree\\updater_prune.cc:74: tree pruning end, 1 roots, 14 extra nodes, 0 pruned nodes, max_depth=3\n",
      "[15:48:01] INFO: C:\\Jenkins\\workspace\\xgboost-win64_release_0.90\\src\\tree\\updater_prune.cc:74: tree pruning end, 1 roots, 14 extra nodes, 0 pruned nodes, max_depth=3\n",
      "[15:48:01] INFO: C:\\Jenkins\\workspace\\xgboost-win64_release_0.90\\src\\tree\\updater_prune.cc:74: tree pruning end, 1 roots, 14 extra nodes, 0 pruned nodes, max_depth=3\n",
      "[15:48:01] INFO: C:\\Jenkins\\workspace\\xgboost-win64_release_0.90\\src\\tree\\updater_prune.cc:74: tree pruning end, 1 roots, 14 extra nodes, 0 pruned nodes, max_depth=3\n",
      "[15:48:01] INFO: C:\\Jenkins\\workspace\\xgboost-win64_release_0.90\\src\\tree\\updater_prune.cc:74: tree pruning end, 1 roots, 14 extra nodes, 0 pruned nodes, max_depth=3\n",
      "[15:48:02] INFO: C:\\Jenkins\\workspace\\xgboost-win64_release_0.90\\src\\tree\\updater_prune.cc:74: tree pruning end, 1 roots, 14 extra nodes, 0 pruned nodes, max_depth=3\n",
      "[15:48:02] INFO: C:\\Jenkins\\workspace\\xgboost-win64_release_0.90\\src\\tree\\updater_prune.cc:74: tree pruning end, 1 roots, 14 extra nodes, 0 pruned nodes, max_depth=3\n",
      "[15:48:02] INFO: C:\\Jenkins\\workspace\\xgboost-win64_release_0.90\\src\\tree\\updater_prune.cc:74: tree pruning end, 1 roots, 14 extra nodes, 0 pruned nodes, max_depth=3\n",
      "[15:48:02] INFO: C:\\Jenkins\\workspace\\xgboost-win64_release_0.90\\src\\tree\\updater_prune.cc:74: tree pruning end, 1 roots, 14 extra nodes, 0 pruned nodes, max_depth=3\n",
      "[15:48:02] INFO: C:\\Jenkins\\workspace\\xgboost-win64_release_0.90\\src\\tree\\updater_prune.cc:74: tree pruning end, 1 roots, 14 extra nodes, 0 pruned nodes, max_depth=3\n",
      "[15:48:02] INFO: C:\\Jenkins\\workspace\\xgboost-win64_release_0.90\\src\\tree\\updater_prune.cc:74: tree pruning end, 1 roots, 14 extra nodes, 0 pruned nodes, max_depth=3\n",
      "[15:48:02] INFO: C:\\Jenkins\\workspace\\xgboost-win64_release_0.90\\src\\tree\\updater_prune.cc:74: tree pruning end, 1 roots, 14 extra nodes, 0 pruned nodes, max_depth=3\n",
      "[15:48:02] INFO: C:\\Jenkins\\workspace\\xgboost-win64_release_0.90\\src\\tree\\updater_prune.cc:74: tree pruning end, 1 roots, 14 extra nodes, 0 pruned nodes, max_depth=3\n",
      "[15:48:02] INFO: C:\\Jenkins\\workspace\\xgboost-win64_release_0.90\\src\\tree\\updater_prune.cc:74: tree pruning end, 1 roots, 14 extra nodes, 0 pruned nodes, max_depth=3\n",
      "[15:48:02] INFO: C:\\Jenkins\\workspace\\xgboost-win64_release_0.90\\src\\tree\\updater_prune.cc:74: tree pruning end, 1 roots, 14 extra nodes, 0 pruned nodes, max_depth=3\n",
      "[15:48:02] INFO: C:\\Jenkins\\workspace\\xgboost-win64_release_0.90\\src\\tree\\updater_prune.cc:74: tree pruning end, 1 roots, 14 extra nodes, 0 pruned nodes, max_depth=3\n",
      "[15:48:03] INFO: C:\\Jenkins\\workspace\\xgboost-win64_release_0.90\\src\\tree\\updater_prune.cc:74: tree pruning end, 1 roots, 14 extra nodes, 0 pruned nodes, max_depth=3\n",
      "[15:48:03] INFO: C:\\Jenkins\\workspace\\xgboost-win64_release_0.90\\src\\tree\\updater_prune.cc:74: tree pruning end, 1 roots, 14 extra nodes, 0 pruned nodes, max_depth=3\n",
      "[15:48:03] INFO: C:\\Jenkins\\workspace\\xgboost-win64_release_0.90\\src\\tree\\updater_prune.cc:74: tree pruning end, 1 roots, 14 extra nodes, 0 pruned nodes, max_depth=3\n",
      "[15:48:03] INFO: C:\\Jenkins\\workspace\\xgboost-win64_release_0.90\\src\\tree\\updater_prune.cc:74: tree pruning end, 1 roots, 14 extra nodes, 0 pruned nodes, max_depth=3\n",
      "[15:48:03] INFO: C:\\Jenkins\\workspace\\xgboost-win64_release_0.90\\src\\tree\\updater_prune.cc:74: tree pruning end, 1 roots, 14 extra nodes, 0 pruned nodes, max_depth=3\n",
      "[15:48:03] INFO: C:\\Jenkins\\workspace\\xgboost-win64_release_0.90\\src\\tree\\updater_prune.cc:74: tree pruning end, 1 roots, 14 extra nodes, 0 pruned nodes, max_depth=3\n",
      "[15:48:03] INFO: C:\\Jenkins\\workspace\\xgboost-win64_release_0.90\\src\\tree\\updater_prune.cc:74: tree pruning end, 1 roots, 14 extra nodes, 0 pruned nodes, max_depth=3\n",
      "[15:48:03] INFO: C:\\Jenkins\\workspace\\xgboost-win64_release_0.90\\src\\tree\\updater_prune.cc:74: tree pruning end, 1 roots, 14 extra nodes, 0 pruned nodes, max_depth=3\n",
      "[15:48:03] INFO: C:\\Jenkins\\workspace\\xgboost-win64_release_0.90\\src\\tree\\updater_prune.cc:74: tree pruning end, 1 roots, 14 extra nodes, 0 pruned nodes, max_depth=3\n",
      "[15:48:03] INFO: C:\\Jenkins\\workspace\\xgboost-win64_release_0.90\\src\\tree\\updater_prune.cc:74: tree pruning end, 1 roots, 14 extra nodes, 0 pruned nodes, max_depth=3\n",
      "[15:48:04] INFO: C:\\Jenkins\\workspace\\xgboost-win64_release_0.90\\src\\tree\\updater_prune.cc:74: tree pruning end, 1 roots, 14 extra nodes, 0 pruned nodes, max_depth=3\n",
      "[15:48:04] INFO: C:\\Jenkins\\workspace\\xgboost-win64_release_0.90\\src\\tree\\updater_prune.cc:74: tree pruning end, 1 roots, 14 extra nodes, 0 pruned nodes, max_depth=3\n",
      "[15:48:04] INFO: C:\\Jenkins\\workspace\\xgboost-win64_release_0.90\\src\\tree\\updater_prune.cc:74: tree pruning end, 1 roots, 14 extra nodes, 0 pruned nodes, max_depth=3\n",
      "[15:48:04] INFO: C:\\Jenkins\\workspace\\xgboost-win64_release_0.90\\src\\tree\\updater_prune.cc:74: tree pruning end, 1 roots, 14 extra nodes, 0 pruned nodes, max_depth=3\n",
      "[15:48:04] INFO: C:\\Jenkins\\workspace\\xgboost-win64_release_0.90\\src\\tree\\updater_prune.cc:74: tree pruning end, 1 roots, 14 extra nodes, 0 pruned nodes, max_depth=3\n",
      "[15:48:04] INFO: C:\\Jenkins\\workspace\\xgboost-win64_release_0.90\\src\\tree\\updater_prune.cc:74: tree pruning end, 1 roots, 14 extra nodes, 0 pruned nodes, max_depth=3\n",
      "[15:48:04] INFO: C:\\Jenkins\\workspace\\xgboost-win64_release_0.90\\src\\tree\\updater_prune.cc:74: tree pruning end, 1 roots, 14 extra nodes, 0 pruned nodes, max_depth=3\n",
      "[15:48:04] INFO: C:\\Jenkins\\workspace\\xgboost-win64_release_0.90\\src\\tree\\updater_prune.cc:74: tree pruning end, 1 roots, 14 extra nodes, 0 pruned nodes, max_depth=3\n",
      "[15:48:04] INFO: C:\\Jenkins\\workspace\\xgboost-win64_release_0.90\\src\\tree\\updater_prune.cc:74: tree pruning end, 1 roots, 14 extra nodes, 0 pruned nodes, max_depth=3\n",
      "[15:48:05] INFO: C:\\Jenkins\\workspace\\xgboost-win64_release_0.90\\src\\tree\\updater_prune.cc:74: tree pruning end, 1 roots, 14 extra nodes, 0 pruned nodes, max_depth=3\n",
      "[15:48:05] INFO: C:\\Jenkins\\workspace\\xgboost-win64_release_0.90\\src\\tree\\updater_prune.cc:74: tree pruning end, 1 roots, 14 extra nodes, 0 pruned nodes, max_depth=3\n",
      "[15:48:05] INFO: C:\\Jenkins\\workspace\\xgboost-win64_release_0.90\\src\\tree\\updater_prune.cc:74: tree pruning end, 1 roots, 14 extra nodes, 0 pruned nodes, max_depth=3\n",
      "[15:48:05] INFO: C:\\Jenkins\\workspace\\xgboost-win64_release_0.90\\src\\tree\\updater_prune.cc:74: tree pruning end, 1 roots, 14 extra nodes, 0 pruned nodes, max_depth=3\n",
      "[15:48:05] INFO: C:\\Jenkins\\workspace\\xgboost-win64_release_0.90\\src\\tree\\updater_prune.cc:74: tree pruning end, 1 roots, 14 extra nodes, 0 pruned nodes, max_depth=3\n",
      "[15:48:05] INFO: C:\\Jenkins\\workspace\\xgboost-win64_release_0.90\\src\\tree\\updater_prune.cc:74: tree pruning end, 1 roots, 14 extra nodes, 0 pruned nodes, max_depth=3\n",
      "[15:48:05] INFO: C:\\Jenkins\\workspace\\xgboost-win64_release_0.90\\src\\tree\\updater_prune.cc:74: tree pruning end, 1 roots, 14 extra nodes, 0 pruned nodes, max_depth=3\n",
      "[15:48:05] INFO: C:\\Jenkins\\workspace\\xgboost-win64_release_0.90\\src\\tree\\updater_prune.cc:74: tree pruning end, 1 roots, 14 extra nodes, 0 pruned nodes, max_depth=3\n",
      "[15:48:05] INFO: C:\\Jenkins\\workspace\\xgboost-win64_release_0.90\\src\\tree\\updater_prune.cc:74: tree pruning end, 1 roots, 14 extra nodes, 0 pruned nodes, max_depth=3\n",
      "[15:48:05] INFO: C:\\Jenkins\\workspace\\xgboost-win64_release_0.90\\src\\tree\\updater_prune.cc:74: tree pruning end, 1 roots, 14 extra nodes, 0 pruned nodes, max_depth=3\n",
      "[15:48:05] INFO: C:\\Jenkins\\workspace\\xgboost-win64_release_0.90\\src\\tree\\updater_prune.cc:74: tree pruning end, 1 roots, 14 extra nodes, 0 pruned nodes, max_depth=3\n",
      "[15:48:06] INFO: C:\\Jenkins\\workspace\\xgboost-win64_release_0.90\\src\\tree\\updater_prune.cc:74: tree pruning end, 1 roots, 14 extra nodes, 0 pruned nodes, max_depth=3\n",
      "[15:48:06] INFO: C:\\Jenkins\\workspace\\xgboost-win64_release_0.90\\src\\tree\\updater_prune.cc:74: tree pruning end, 1 roots, 14 extra nodes, 0 pruned nodes, max_depth=3\n",
      "[15:48:06] INFO: C:\\Jenkins\\workspace\\xgboost-win64_release_0.90\\src\\tree\\updater_prune.cc:74: tree pruning end, 1 roots, 14 extra nodes, 0 pruned nodes, max_depth=3\n",
      "[15:48:06] INFO: C:\\Jenkins\\workspace\\xgboost-win64_release_0.90\\src\\tree\\updater_prune.cc:74: tree pruning end, 1 roots, 14 extra nodes, 0 pruned nodes, max_depth=3\n",
      "[15:48:06] INFO: C:\\Jenkins\\workspace\\xgboost-win64_release_0.90\\src\\tree\\updater_prune.cc:74: tree pruning end, 1 roots, 14 extra nodes, 0 pruned nodes, max_depth=3\n"
     ]
    },
    {
     "name": "stdout",
     "output_type": "stream",
     "text": [
      "[15:48:06] INFO: C:\\Jenkins\\workspace\\xgboost-win64_release_0.90\\src\\tree\\updater_prune.cc:74: tree pruning end, 1 roots, 14 extra nodes, 0 pruned nodes, max_depth=3\n",
      "[15:48:06] INFO: C:\\Jenkins\\workspace\\xgboost-win64_release_0.90\\src\\tree\\updater_prune.cc:74: tree pruning end, 1 roots, 14 extra nodes, 0 pruned nodes, max_depth=3\n"
     ]
    }
   ],
   "source": [
    "model_xg = xgb.XGBRegressor(objective='reg:squarederror',\n",
    "                            verbosity=2).fit(X.numpy(),y.numpy())"
   ]
  },
  {
   "cell_type": "code",
   "execution_count": 36,
   "metadata": {},
   "outputs": [],
   "source": [
    "preds = model_xg.predict(X_eval.numpy())"
   ]
  },
  {
   "cell_type": "code",
   "execution_count": 37,
   "metadata": {},
   "outputs": [
    {
     "name": "stdout",
     "output_type": "stream",
     "text": [
      "1.5166327\n"
     ]
    }
   ],
   "source": [
    "print(((preds-y_eval_np)**2).mean())"
   ]
  },
  {
   "cell_type": "code",
   "execution_count": 22,
   "metadata": {},
   "outputs": [
    {
     "data": {
      "image/png": "[encoded data removed]",
      "text/plain": [
       "<Figure size 640x480 with 1 Axes>"
      ]
     },
     "metadata": {},
     "output_type": "display_data"
    }
   ],
   "source": [
    "plt.scatter(y_eval_np,preds,s=.1)\n",
    "plt.plot([y_eval_np.min(),y_eval_np.max()],[y_eval.min(),y_eval.max()])\n",
    "plt.show()"
   ]
  },
  {
   "cell_type": "code",
   "execution_count": 88,
   "metadata": {},
   "outputs": [],
   "source": [
    "class Net_relu(nn.Module):\n",
    "    def __init__(self):\n",
    "        super(Net_relu, self).__init__()\n",
    "        self.L1 = nn.Linear(10,880,bias=False)\n",
    "        self.L2 = nn.Linear(880,1,bias=False)\n",
    "        self.act = nn.ReLU()\n",
    "\n",
    "    def forward(self, x):\n",
    "        l1 = self.L1(x)\n",
    "        l2 = self.act(l1)\n",
    "        return self.L2(l2)"
   ]
  },
  {
   "cell_type": "code",
   "execution_count": 89,
   "metadata": {},
   "outputs": [],
   "source": [
    "model_r = Net_relu()"
   ]
  },
  {
   "cell_type": "code",
   "execution_count": 90,
   "metadata": {},
   "outputs": [],
   "source": [
    "optimizer_relu = torch.optim.SGD(model_r.parameters(), lr=.001, momentum=0.1)"
   ]
  },
  {
   "cell_type": "code",
   "execution_count": 100,
   "metadata": {
    "scrolled": true
   },
   "outputs": [
    {
     "name": "stdout",
     "output_type": "stream",
     "text": [
      "tensor(3.9396, grad_fn=<MseLossBackward0>) 0.001\n",
      "tensor(3.9388, grad_fn=<MseLossBackward0>) 0.001\n",
      "tensor(3.9381, grad_fn=<MseLossBackward0>) 0.001\n",
      "tensor(3.9373, grad_fn=<MseLossBackward0>) 0.001\n",
      "tensor(3.9369, grad_fn=<MseLossBackward0>) 0.001\n",
      "tensor(3.9362, grad_fn=<MseLossBackward0>) 0.001\n",
      "tensor(3.9356, grad_fn=<MseLossBackward0>) 0.001\n",
      "tensor(3.9349, grad_fn=<MseLossBackward0>) 0.001\n",
      "tensor(3.9345, grad_fn=<MseLossBackward0>) 0.001\n",
      "tensor(3.9339, grad_fn=<MseLossBackward0>) 0.001\n",
      "tensor(3.9335, grad_fn=<MseLossBackward0>) 0.001\n",
      "tensor(3.9328, grad_fn=<MseLossBackward0>) 0.001\n",
      "tensor(3.9323, grad_fn=<MseLossBackward0>) 0.001\n",
      "tensor(3.9320, grad_fn=<MseLossBackward0>) 0.001\n",
      "tensor(3.9313, grad_fn=<MseLossBackward0>) 0.001\n",
      "tensor(3.9310, grad_fn=<MseLossBackward0>) 0.001\n",
      "tensor(3.9303, grad_fn=<MseLossBackward0>) 0.001\n",
      "tensor(3.9299, grad_fn=<MseLossBackward0>) 0.001\n",
      "tensor(3.9293, grad_fn=<MseLossBackward0>) 0.001\n",
      "tensor(3.9290, grad_fn=<MseLossBackward0>) 0.001\n",
      "tensor(3.9284, grad_fn=<MseLossBackward0>) 0.001\n",
      "tensor(3.9280, grad_fn=<MseLossBackward0>) 0.001\n",
      "tensor(3.9273, grad_fn=<MseLossBackward0>) 0.001\n",
      "tensor(3.9268, grad_fn=<MseLossBackward0>) 0.001\n",
      "tensor(3.9262, grad_fn=<MseLossBackward0>) 0.001\n",
      "tensor(3.9256, grad_fn=<MseLossBackward0>) 0.001\n",
      "tensor(3.9253, grad_fn=<MseLossBackward0>) 0.001\n",
      "tensor(3.9245, grad_fn=<MseLossBackward0>) 0.001\n",
      "tensor(3.9238, grad_fn=<MseLossBackward0>) 0.001\n",
      "tensor(3.9236, grad_fn=<MseLossBackward0>) 0.001\n",
      "tensor(3.9229, grad_fn=<MseLossBackward0>) 0.001\n",
      "tensor(3.9225, grad_fn=<MseLossBackward0>) 0.001\n",
      "tensor(3.9220, grad_fn=<MseLossBackward0>) 0.001\n",
      "tensor(3.9218, grad_fn=<MseLossBackward0>) 0.001\n",
      "tensor(3.9215, grad_fn=<MseLossBackward0>) 0.001\n",
      "tensor(3.9209, grad_fn=<MseLossBackward0>) 0.001\n",
      "tensor(3.9206, grad_fn=<MseLossBackward0>) 0.001\n",
      "tensor(3.9201, grad_fn=<MseLossBackward0>) 0.001\n",
      "tensor(3.9198, grad_fn=<MseLossBackward0>) 0.001\n",
      "tensor(3.9195, grad_fn=<MseLossBackward0>) 0.001\n",
      "tensor(3.9193, grad_fn=<MseLossBackward0>) 0.001\n",
      "tensor(3.9188, grad_fn=<MseLossBackward0>) 0.001\n",
      "tensor(3.9185, grad_fn=<MseLossBackward0>) 0.001\n",
      "tensor(3.9182, grad_fn=<MseLossBackward0>) 0.001\n",
      "tensor(3.9179, grad_fn=<MseLossBackward0>) 0.001\n",
      "tensor(3.9175, grad_fn=<MseLossBackward0>) 0.001\n",
      "tensor(3.9172, grad_fn=<MseLossBackward0>) 0.001\n",
      "tensor(3.9167, grad_fn=<MseLossBackward0>) 0.001\n",
      "tensor(3.9164, grad_fn=<MseLossBackward0>) 0.001\n",
      "tensor(3.9159, grad_fn=<MseLossBackward0>) 0.001\n",
      "tensor(3.9156, grad_fn=<MseLossBackward0>) 0.001\n",
      "tensor(3.9152, grad_fn=<MseLossBackward0>) 0.001\n",
      "tensor(3.9147, grad_fn=<MseLossBackward0>) 0.001\n",
      "tensor(3.9145, grad_fn=<MseLossBackward0>) 0.001\n",
      "tensor(3.9140, grad_fn=<MseLossBackward0>) 0.001\n",
      "tensor(3.9139, grad_fn=<MseLossBackward0>) 0.001\n",
      "tensor(3.9130, grad_fn=<MseLossBackward0>) 0.001\n",
      "tensor(3.9126, grad_fn=<MseLossBackward0>) 0.001\n",
      "tensor(3.9124, grad_fn=<MseLossBackward0>) 0.001\n",
      "tensor(3.9120, grad_fn=<MseLossBackward0>) 0.001\n",
      "tensor(3.9116, grad_fn=<MseLossBackward0>) 0.001\n",
      "tensor(3.9114, grad_fn=<MseLossBackward0>) 0.001\n",
      "tensor(3.9109, grad_fn=<MseLossBackward0>) 0.001\n",
      "tensor(3.9107, grad_fn=<MseLossBackward0>) 0.001\n",
      "tensor(3.9103, grad_fn=<MseLossBackward0>) 0.001\n",
      "tensor(3.9100, grad_fn=<MseLossBackward0>) 0.001\n",
      "tensor(3.9098, grad_fn=<MseLossBackward0>) 0.001\n",
      "tensor(3.9095, grad_fn=<MseLossBackward0>) 0.001\n",
      "tensor(3.9092, grad_fn=<MseLossBackward0>) 0.001\n",
      "tensor(3.9090, grad_fn=<MseLossBackward0>) 0.001\n",
      "tensor(3.9090, grad_fn=<MseLossBackward0>) 0.001\n",
      "tensor(3.9088, grad_fn=<MseLossBackward0>) 0.001\n",
      "tensor(3.9086, grad_fn=<MseLossBackward0>) 0.001\n",
      "tensor(3.9085, grad_fn=<MseLossBackward0>) 0.001\n",
      "tensor(3.9084, grad_fn=<MseLossBackward0>) 0.001\n",
      "tensor(3.9081, grad_fn=<MseLossBackward0>) 0.001\n",
      "tensor(3.9080, grad_fn=<MseLossBackward0>) 0.001\n",
      "tensor(3.9076, grad_fn=<MseLossBackward0>) 0.001\n",
      "tensor(3.9074, grad_fn=<MseLossBackward0>) 0.001\n",
      "tensor(3.9070, grad_fn=<MseLossBackward0>) 0.001\n",
      "tensor(3.9072, grad_fn=<MseLossBackward0>) 0.001\n",
      "tensor(3.9068, grad_fn=<MseLossBackward0>) 0.001\n",
      "tensor(3.9066, grad_fn=<MseLossBackward0>) 0.001\n",
      "tensor(3.9063, grad_fn=<MseLossBackward0>) 0.001\n",
      "tensor(3.9060, grad_fn=<MseLossBackward0>) 0.001\n",
      "tensor(3.9059, grad_fn=<MseLossBackward0>) 0.001\n",
      "tensor(3.9058, grad_fn=<MseLossBackward0>) 0.001\n",
      "tensor(3.9055, grad_fn=<MseLossBackward0>) 0.001\n",
      "tensor(3.9054, grad_fn=<MseLossBackward0>) 0.001\n",
      "tensor(3.9051, grad_fn=<MseLossBackward0>) 0.001\n",
      "tensor(3.9050, grad_fn=<MseLossBackward0>) 0.001\n",
      "tensor(3.9049, grad_fn=<MseLossBackward0>) 0.001\n",
      "tensor(3.9047, grad_fn=<MseLossBackward0>) 0.001\n",
      "tensor(3.9043, grad_fn=<MseLossBackward0>) 0.001\n",
      "tensor(3.9039, grad_fn=<MseLossBackward0>) 0.001\n",
      "tensor(3.9037, grad_fn=<MseLossBackward0>) 0.001\n",
      "tensor(3.9037, grad_fn=<MseLossBackward0>) 0.001\n",
      "tensor(3.9033, grad_fn=<MseLossBackward0>) 0.001\n",
      "tensor(3.9033, grad_fn=<MseLossBackward0>) 0.001\n",
      "tensor(3.9030, grad_fn=<MseLossBackward0>) 0.001\n"
     ]
    }
   ],
   "source": [
    "for epoch in range(500):\n",
    "    for i in range(100):\n",
    "        inputs = X[i*1000:i*1000+1000]\n",
    "        targets = y[i*1000:i*1000+1000]\n",
    "        optimizer_relu.zero_grad()\n",
    "        yhat = model_r(inputs)\n",
    "        loss = criterion(yhat.ravel(), targets)\n",
    "        loss.backward()\n",
    "        optimizer_relu.step()\n",
    "    all_yhat = model_r(X_eval)\n",
    "    overall_loss = criterion(all_yhat.ravel(),y_eval)\n",
    "    print(overall_loss,rate)"
   ]
  },
  {
   "cell_type": "code",
   "execution_count": 101,
   "metadata": {},
   "outputs": [
    {
     "data": {
      "image/png": "[encoded data removed]",
      "text/plain": [
       "<Figure size 640x480 with 1 Axes>"
      ]
     },
     "metadata": {},
     "output_type": "display_data"
    }
   ],
   "source": [
    "nn_relu_preds = all_yhat.detach().numpy()\n",
    "y_eval_np = y_eval.numpy()\n",
    "plt.scatter(y_eval_np,nn_relu_preds,s=.1)\n",
    "plt.plot([y_eval_np.min(),y_eval_np.max()],[y_eval.min(),y_eval.max()])\n",
    "plt.show()"
   ]
  },
  {
   "cell_type": "markdown",
   "metadata": {},
   "source": [
    "# Real Data with CIFAR10"
   ]
  },
  {
   "cell_type": "code",
   "execution_count": 2,
   "metadata": {},
   "outputs": [],
   "source": [
    "import torchvision\n",
    "import torchvision.datasets as datasets"
   ]
  },
  {
   "cell_type": "code",
   "execution_count": 3,
   "metadata": {},
   "outputs": [],
   "source": [
    "cifar_trainset = datasets.CIFAR10(root='./data', train=True, \n",
    "                                  transform=torchvision.transforms.Compose([ torchvision.transforms.ToTensor() ]))\n",
    "cifar_testset = datasets.CIFAR10(root='./data', train=False, \n",
    "                                 transform=torchvision.transforms.Compose([ torchvision.transforms.ToTensor() ]))"
   ]
  },
  {
   "cell_type": "code",
   "execution_count": 4,
   "metadata": {},
   "outputs": [],
   "source": [
    "class Net_cnn_my_act(nn.Module):\n",
    "    def __init__(self):\n",
    "        super(Net_cnn_my_act,self).__init__()\n",
    "        self.conv1 = nn.Conv2d(3, 6, 5)#3x32x32->6x28x28 after pooling ->6x14x14\n",
    "        self.pool = nn.MaxPool2d(2, 2)\n",
    "        self.conv2 = nn.Conv2d(6, 16, 5)#6x14x14->16x10x10 after pooling 16x5x5\n",
    "        self.lin1 = nn.Linear(400, 120)#16*5*5=400\n",
    "        self.lin2 = nn.Linear(120, 84)\n",
    "        self.lin3 = nn.Linear(84, 10)\n",
    "\n",
    "    def forward(self, x):\n",
    "        x = self.pool(my_act(self.conv1(x)))\n",
    "        x = self.pool(my_act(self.conv2(x)))\n",
    "        x = torch.flatten(x, 1)\n",
    "        x = my_act(self.lin1(x))\n",
    "        x = my_act(self.lin2(x))\n",
    "        x = self.lin3(x)\n",
    "        return x"
   ]
  },
  {
   "cell_type": "code",
   "execution_count": 5,
   "metadata": {},
   "outputs": [],
   "source": [
    "my_cnn = Net_cnn_my_act()"
   ]
  },
  {
   "cell_type": "code",
   "execution_count": 6,
   "metadata": {},
   "outputs": [],
   "source": [
    "train_loader = torch.utils.data.DataLoader(cifar_trainset,batch_size=64, shuffle=True)"
   ]
  },
  {
   "cell_type": "code",
   "execution_count": 7,
   "metadata": {},
   "outputs": [],
   "source": [
    "my_cnn_optimizer = torch.optim.SGD(my_cnn.parameters(), lr=.0015, momentum=0.2)\n",
    "cnn_loss = torch.nn.CrossEntropyLoss()"
   ]
  },
  {
   "cell_type": "code",
   "execution_count": 8,
   "metadata": {},
   "outputs": [],
   "source": [
    "test_loader = torch.utils.data.DataLoader(cifar_testset,batch_size=10000, shuffle=False)"
   ]
  },
  {
   "cell_type": "code",
   "execution_count": 30,
   "metadata": {
    "scrolled": true
   },
   "outputs": [
    {
     "name": "stdout",
     "output_type": "stream",
     "text": [
      "tensor(2.1084, grad_fn=<NllLossBackward0>)\n",
      "tensor(1.9808, grad_fn=<NllLossBackward0>)\n",
      "tensor(1.8727, grad_fn=<NllLossBackward0>)\n",
      "tensor(1.7863, grad_fn=<NllLossBackward0>)\n",
      "tensor(1.7275, grad_fn=<NllLossBackward0>)\n",
      "tensor(1.8769, grad_fn=<NllLossBackward0>)\n",
      "tensor(1.6056, grad_fn=<NllLossBackward0>)\n",
      "tensor(1.6736, grad_fn=<NllLossBackward0>)\n",
      "tensor(1.5350, grad_fn=<NllLossBackward0>)\n",
      "tensor(1.5417, grad_fn=<NllLossBackward0>)\n",
      "tensor(1.5371, grad_fn=<NllLossBackward0>)\n",
      "tensor(1.4698, grad_fn=<NllLossBackward0>)\n",
      "tensor(1.4350, grad_fn=<NllLossBackward0>)\n",
      "tensor(1.4760, grad_fn=<NllLossBackward0>)\n",
      "tensor(1.4282, grad_fn=<NllLossBackward0>)\n",
      "tensor(1.3852, grad_fn=<NllLossBackward0>)\n",
      "tensor(1.3651, grad_fn=<NllLossBackward0>)\n",
      "tensor(1.3795, grad_fn=<NllLossBackward0>)\n",
      "tensor(1.3661, grad_fn=<NllLossBackward0>)\n",
      "tensor(1.3656, grad_fn=<NllLossBackward0>)\n",
      "tensor(1.3683, grad_fn=<NllLossBackward0>)\n",
      "tensor(1.3248, grad_fn=<NllLossBackward0>)\n",
      "tensor(1.3463, grad_fn=<NllLossBackward0>)\n",
      "tensor(1.3069, grad_fn=<NllLossBackward0>)\n",
      "tensor(1.2976, grad_fn=<NllLossBackward0>)\n",
      "tensor(1.3049, grad_fn=<NllLossBackward0>)\n",
      "tensor(1.2795, grad_fn=<NllLossBackward0>)\n",
      "tensor(1.2765, grad_fn=<NllLossBackward0>)\n",
      "tensor(1.2980, grad_fn=<NllLossBackward0>)\n",
      "tensor(1.2816, grad_fn=<NllLossBackward0>)\n",
      "tensor(1.3125, grad_fn=<NllLossBackward0>)\n",
      "tensor(1.2689, grad_fn=<NllLossBackward0>)\n",
      "tensor(1.3262, grad_fn=<NllLossBackward0>)\n",
      "tensor(1.2512, grad_fn=<NllLossBackward0>)\n",
      "tensor(1.2766, grad_fn=<NllLossBackward0>)\n",
      "tensor(1.2617, grad_fn=<NllLossBackward0>)\n",
      "tensor(1.2371, grad_fn=<NllLossBackward0>)\n",
      "tensor(1.2289, grad_fn=<NllLossBackward0>)\n",
      "tensor(1.2364, grad_fn=<NllLossBackward0>)\n",
      "tensor(1.2617, grad_fn=<NllLossBackward0>)\n",
      "tensor(1.3293, grad_fn=<NllLossBackward0>)\n",
      "tensor(1.2494, grad_fn=<NllLossBackward0>)\n",
      "tensor(1.2491, grad_fn=<NllLossBackward0>)\n",
      "tensor(1.2371, grad_fn=<NllLossBackward0>)\n",
      "tensor(1.3231, grad_fn=<NllLossBackward0>)\n",
      "tensor(1.2316, grad_fn=<NllLossBackward0>)\n",
      "tensor(1.2492, grad_fn=<NllLossBackward0>)\n",
      "tensor(1.2104, grad_fn=<NllLossBackward0>)\n",
      "tensor(1.3047, grad_fn=<NllLossBackward0>)\n",
      "tensor(1.2121, grad_fn=<NllLossBackward0>)\n"
     ]
    }
   ],
   "source": [
    "for epoch in range(50):\n",
    "    for (batch_idx, batch) in enumerate(train_loader):\n",
    "        (X, Y) = batch\n",
    "        my_cnn_optimizer.zero_grad()\n",
    "        preds = my_cnn(X)\n",
    "        loss_val = cnn_loss(preds, Y)\n",
    "        loss_val.backward()\n",
    "        my_cnn_optimizer.step() \n",
    "        print(batch_idx,end='\\r')\n",
    "    for d in test_loader:\n",
    "        (X, Y) = d \n",
    "        preds = my_cnn(X)\n",
    "        loss_val = cnn_loss(preds, Y)\n",
    "        print(loss_val)"
   ]
  },
  {
   "cell_type": "code",
   "execution_count": 32,
   "metadata": {},
   "outputs": [],
   "source": [
    "class Net_cnn_relu(nn.Module):\n",
    "    def __init__(self):\n",
    "        super(Net_cnn_relu,self).__init__()\n",
    "        self.conv1 = nn.Conv2d(3, 6, 5)#3x32x32->6x28x28 after pooling -> 6x14x14\n",
    "        self.pool = nn.MaxPool2d(2, 2)\n",
    "        self.conv2 = nn.Conv2d(6, 16, 5)#6x14x14->16x10x10 after pooling -> 16x5x5\n",
    "        self.lin1 = nn.Linear(400, 120)#16*5*5=400\n",
    "        self.lin2 = nn.Linear(120, 84)\n",
    "        self.lin3 = nn.Linear(84, 10)\n",
    "\n",
    "    def forward(self, x):\n",
    "        x = self.pool(F.relu(self.conv1(x)))\n",
    "        x = self.pool(F.relu(self.conv2(x)))\n",
    "        x = torch.flatten(x, 1)\n",
    "        x = F.relu(self.lin1(x))\n",
    "        x = F.relu(self.lin2(x))\n",
    "        x = self.lin3(x)\n",
    "        return x"
   ]
  },
  {
   "cell_type": "code",
   "execution_count": 33,
   "metadata": {},
   "outputs": [],
   "source": [
    "relu_cnn = Net_cnn_relu()"
   ]
  },
  {
   "cell_type": "code",
   "execution_count": 34,
   "metadata": {},
   "outputs": [],
   "source": [
    "relu_cnn_optimizer = torch.optim.SGD(relu_cnn.parameters(), lr=.0015, momentum=0.2)"
   ]
  },
  {
   "cell_type": "code",
   "execution_count": 35,
   "metadata": {
    "scrolled": true
   },
   "outputs": [
    {
     "name": "stdout",
     "output_type": "stream",
     "text": [
      "tensor(2.3028, grad_fn=<NllLossBackward0>)\n",
      "tensor(2.3015, grad_fn=<NllLossBackward0>)\n",
      "tensor(2.3001, grad_fn=<NllLossBackward0>)\n",
      "tensor(2.2981, grad_fn=<NllLossBackward0>)\n",
      "tensor(2.2952, grad_fn=<NllLossBackward0>)\n",
      "tensor(2.2898, grad_fn=<NllLossBackward0>)\n",
      "tensor(2.2800, grad_fn=<NllLossBackward0>)\n",
      "tensor(2.2636, grad_fn=<NllLossBackward0>)\n",
      "tensor(2.2261, grad_fn=<NllLossBackward0>)\n",
      "tensor(2.1588, grad_fn=<NllLossBackward0>)\n",
      "tensor(2.0713, grad_fn=<NllLossBackward0>)\n",
      "tensor(2.0241, grad_fn=<NllLossBackward0>)\n",
      "tensor(1.9969, grad_fn=<NllLossBackward0>)\n",
      "tensor(1.9784, grad_fn=<NllLossBackward0>)\n",
      "tensor(1.9633, grad_fn=<NllLossBackward0>)\n",
      "tensor(1.9422, grad_fn=<NllLossBackward0>)\n",
      "tensor(1.9276, grad_fn=<NllLossBackward0>)\n",
      "tensor(1.9029, grad_fn=<NllLossBackward0>)\n",
      "tensor(1.9044, grad_fn=<NllLossBackward0>)\n",
      "tensor(1.8659, grad_fn=<NllLossBackward0>)\n",
      "tensor(1.8723, grad_fn=<NllLossBackward0>)\n",
      "tensor(1.8153, grad_fn=<NllLossBackward0>)\n",
      "tensor(1.7864, grad_fn=<NllLossBackward0>)\n",
      "tensor(1.8231, grad_fn=<NllLossBackward0>)\n",
      "tensor(1.7557, grad_fn=<NllLossBackward0>)\n",
      "tensor(1.7988, grad_fn=<NllLossBackward0>)\n",
      "tensor(1.7097, grad_fn=<NllLossBackward0>)\n",
      "tensor(1.7002, grad_fn=<NllLossBackward0>)\n",
      "tensor(1.6851, grad_fn=<NllLossBackward0>)\n",
      "tensor(1.6785, grad_fn=<NllLossBackward0>)\n",
      "tensor(1.6906, grad_fn=<NllLossBackward0>)\n",
      "tensor(1.6560, grad_fn=<NllLossBackward0>)\n",
      "tensor(1.6711, grad_fn=<NllLossBackward0>)\n",
      "tensor(1.6299, grad_fn=<NllLossBackward0>)\n",
      "tensor(1.6908, grad_fn=<NllLossBackward0>)\n",
      "tensor(1.6081, grad_fn=<NllLossBackward0>)\n",
      "tensor(1.6020, grad_fn=<NllLossBackward0>)\n",
      "tensor(1.5772, grad_fn=<NllLossBackward0>)\n",
      "tensor(1.6781, grad_fn=<NllLossBackward0>)\n",
      "tensor(1.6234, grad_fn=<NllLossBackward0>)\n",
      "tensor(1.5264, grad_fn=<NllLossBackward0>)\n",
      "tensor(1.5996, grad_fn=<NllLossBackward0>)\n",
      "tensor(1.5667, grad_fn=<NllLossBackward0>)\n",
      "tensor(1.6917, grad_fn=<NllLossBackward0>)\n",
      "tensor(1.4675, grad_fn=<NllLossBackward0>)\n",
      "tensor(1.6357, grad_fn=<NllLossBackward0>)\n",
      "tensor(1.4622, grad_fn=<NllLossBackward0>)\n",
      "tensor(1.4443, grad_fn=<NllLossBackward0>)\n",
      "tensor(1.4529, grad_fn=<NllLossBackward0>)\n",
      "tensor(1.4633, grad_fn=<NllLossBackward0>)\n"
     ]
    }
   ],
   "source": [
    "for epoch in range(0, 50):\n",
    "    for (batch_idx, batch) in enumerate(train_loader):\n",
    "        (X, Y) = batch\n",
    "        relu_cnn_optimizer.zero_grad()\n",
    "        preds = relu_cnn(X)\n",
    "        loss_val = cnn_loss(preds, Y)\n",
    "        loss_val.backward()\n",
    "        relu_cnn_optimizer.step()\n",
    "        print(batch_idx,end='\\r')\n",
    "    for d in test_loader:\n",
    "        (X, Y) = d \n",
    "        preds = relu_cnn(X)\n",
    "        loss_val = cnn_loss(preds, Y)\n",
    "        print(loss_val)"
   ]
  },
  {
   "cell_type": "code",
   "execution_count": 36,
   "metadata": {},
   "outputs": [],
   "source": [
    "for d in test_loader:\n",
    "    (X, Y) = d \n",
    "    preds = relu_cnn(X)\n",
    "    acc_relu = ((preds.argmax(axis=1)-Y)==0).sum()/Y.numel()"
   ]
  },
  {
   "cell_type": "code",
   "execution_count": 11,
   "metadata": {},
   "outputs": [],
   "source": [
    "for d in test_loader:\n",
    "    (X, Y) = d \n",
    "    preds = my_cnn(X)\n",
    "    acc_custom = ((preds.argmax(axis=1)-Y)==0).sum()/Y.numel()"
   ]
  },
  {
   "cell_type": "code",
   "execution_count": 37,
   "metadata": {},
   "outputs": [
    {
     "name": "stdout",
     "output_type": "stream",
     "text": [
      "Custom Activation accuracy:\t0.5826\n",
      "RELU Activation accuracy:\t0.4784\n"
     ]
    }
   ],
   "source": [
    "print('Custom Activation accuracy:\\t{}'.format(round(acc_custom.item(),4)))\n",
    "print('RELU Activation accuracy:\\t{}'.format(round(acc_relu.item(),4)))"
   ]
  },
  {
   "cell_type": "code",
   "execution_count": null,
   "metadata": {},
   "outputs": [],
   "source": []
  }
 ],
 "metadata": {
  "kernelspec": {
   "display_name": "Python 3",
   "language": "python",
   "name": "python3"
  },
  "language_info": {
   "codemirror_mode": {
    "name": "ipython",
    "version": 3
   },
   "file_extension": ".py",
   "mimetype": "text/x-python",
   "name": "python",
   "nbconvert_exporter": "python",
   "pygments_lexer": "ipython3",
   "version": "3.7.3"
  }
 },
 "nbformat": 4,
 "nbformat_minor": 2
}
