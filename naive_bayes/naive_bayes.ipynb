{
 "cells": [
  {
   "cell_type": "code",
   "execution_count": 1,
   "metadata": {
    "collapsed": true
   },
   "outputs": [],
   "source": [
    "import numpy as np\n"
   ]
  },
  {
   "cell_type": "code",
   "execution_count": 128,
   "metadata": {},
   "outputs": [],
   "source": [
    "class NaiveBayes:\n",
    "    def __init__(self):\n",
    "        self.C=None\n",
    "    def fit(self,X,Y):\n",
    "        self.classes=list(set(Y))\n",
    "        self.C=len(self.classes)\n",
    "        self.N=len(X)\n",
    "        pi_cs=np.zeros(self.C)\n",
    "        theta_ijs=np.zeros((len(self.classes),len(X)))\n",
    "        Y=np.asarray(Y)\n",
    "        X=np.asarray(X)\n",
    "        self.X=np.copy(X)\n",
    "        self.Y=np.copy(Y)\n",
    "        N=len(Y)\n",
    "        self.D=len(X[0])\n",
    "        for i in range(len(self.classes)):\n",
    "            mask=Y==self.classes[i]\n",
    "            pi_cs[i]=len(Y[mask])/N\n",
    "            for j in range(self.D):\n",
    "                cx=X[mask][:,j]\n",
    "                theta_ijs[i,j]=np.sum(cx)/N\n",
    "        self.pi_cs=pi_cs\n",
    "        self.theta_ijs=theta_ijs\n",
    "        \n",
    "    def probability(self,x):\n",
    "        probs=np.zeros(self.C)\n",
    "        for c in range(self.C):\n",
    "            pc=self.pi_cs[c]\n",
    "            for i in range(self.D):\n",
    "                pc*=(self.theta_ijs[c,i]**(x[i]==1))*((1-self.theta_ijs[c,i])**(x[i]==0))\n",
    "            probs[c]=pc\n",
    "        return probs/np.sum(probs)\n",
    "        \n",
    "    \n",
    "    def predict(self,x):\n",
    "        if self.C:\n",
    "            probs=np.zeros(self.C)\n",
    "            lcs=np.zeros(self.C)\n",
    "            for c in range(self.C):\n",
    "                lc=np.log(self.pi_cs[c])\n",
    "                for j in range(self.D):\n",
    "                    if x[j]==1:\n",
    "                        lc+=np.log(self.theta_ijs[c,j])\n",
    "                    else:\n",
    "                        lc+=np.log(1-self.theta_ijs[c,j])\n",
    "                lcs[c]=lc\n",
    "            for c in range(self.C):\n",
    "                probs[c]=np.exp(lcs[c]-np.log(np.sum(np.exp(lcs[lcs!=c]))))\n",
    "            return np.argmax(probs)\n",
    "        \n",
    "            \n",
    "                \n",
    "                \n",
    "                "
   ]
  },
  {
   "cell_type": "code",
   "execution_count": 129,
   "metadata": {},
   "outputs": [],
   "source": [
    "x=np.array([[1,1,0,1,0,0],[1,1,1,0,0,0],[1,0,0,0,0,0],[1,0,1,0,0,0],[0,0,1,0,1,1],[0,0,0,1,1,1],[0,0,0,0,1,1],\n",
    "            [1,0,0,1,1,1],[0,0,0,1,0,1],[0,0,0,1,1,1],[1,1,0,0,0,0],[1,1,1,1,0,0],[1,1,1,0,1,0],[1,1,1,0,0,1],\n",
    "            [0,0,1,1,1,1],[1,0,0,1,1,1],[0,1,0,1,1,1],[1,0,0,1,1,1],[0,0,0,1,0,1],[0,0,0,1,1,1]])\n",
    "y=np.array([0,0,0,0,1,1,1,1,1,1,0,0,0,0,1,1,1,1,1,1])"
   ]
  },
  {
   "cell_type": "code",
   "execution_count": 130,
   "metadata": {},
   "outputs": [
    {
     "data": {
      "text/plain": [
       "20"
      ]
     },
     "execution_count": 130,
     "metadata": {},
     "output_type": "execute_result"
    }
   ],
   "source": [
    "len(y)"
   ]
  },
  {
   "cell_type": "code",
   "execution_count": 131,
   "metadata": {},
   "outputs": [
    {
     "data": {
      "text/plain": [
       "20"
      ]
     },
     "execution_count": 131,
     "metadata": {},
     "output_type": "execute_result"
    }
   ],
   "source": [
    "len(x)\n"
   ]
  },
  {
   "cell_type": "code",
   "execution_count": 132,
   "metadata": {
    "collapsed": true
   },
   "outputs": [],
   "source": [
    "nc=NaiveBayes()"
   ]
  },
  {
   "cell_type": "code",
   "execution_count": 133,
   "metadata": {
    "collapsed": true
   },
   "outputs": [],
   "source": [
    "nc.fit(x,y)"
   ]
  },
  {
   "cell_type": "code",
   "execution_count": 134,
   "metadata": {
    "collapsed": true
   },
   "outputs": [],
   "source": [
    "x1=np.array([0,1,0,1,1,1])\n",
    "x0=np.array([1,1,0,0,1,0])"
   ]
  },
  {
   "cell_type": "code",
   "execution_count": 135,
   "metadata": {},
   "outputs": [
    {
     "data": {
      "text/plain": [
       "1"
      ]
     },
     "execution_count": 135,
     "metadata": {},
     "output_type": "execute_result"
    }
   ],
   "source": [
    "nc.predict(x1)"
   ]
  },
  {
   "cell_type": "code",
   "execution_count": 136,
   "metadata": {},
   "outputs": [
    {
     "data": {
      "text/plain": [
       "0"
      ]
     },
     "execution_count": 136,
     "metadata": {},
     "output_type": "execute_result"
    }
   ],
   "source": [
    "nc.predict(x0)"
   ]
  },
  {
   "cell_type": "code",
   "execution_count": 139,
   "metadata": {},
   "outputs": [],
   "source": [
    "p=nc.probability(x2)"
   ]
  },
  {
   "cell_type": "code",
   "execution_count": 140,
   "metadata": {},
   "outputs": [
    {
     "data": {
      "text/plain": [
       "array([0.79166667, 0.20833333])"
      ]
     },
     "execution_count": 140,
     "metadata": {},
     "output_type": "execute_result"
    }
   ],
   "source": [
    "p"
   ]
  },
  {
   "cell_type": "code",
   "execution_count": null,
   "metadata": {
    "collapsed": true
   },
   "outputs": [],
   "source": []
  }
 ],
 "metadata": {
  "kernelspec": {
   "display_name": "Python 3",
   "language": "python",
   "name": "python3"
  },
  "language_info": {
   "codemirror_mode": {
    "name": "ipython",
    "version": 3
   },
   "file_extension": ".py",
   "mimetype": "text/x-python",
   "name": "python",
   "nbconvert_exporter": "python",
   "pygments_lexer": "ipython3",
   "version": "3.6.1"
  }
 },
 "nbformat": 4,
 "nbformat_minor": 2
}
